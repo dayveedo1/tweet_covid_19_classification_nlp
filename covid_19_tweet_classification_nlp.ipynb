{
 "cells": [
  {
   "cell_type": "code",
   "execution_count": 17,
   "id": "caf09edb",
   "metadata": {},
   "outputs": [],
   "source": [
    "from sklearn.feature_extraction.text import TfidfVectorizer\n",
    "from sklearn.naive_bayes import MultinomialNB\n",
    "from sklearn.metrics import classification_report, precision_score\n",
    "import seaborn as sns\n",
    "import pandas as pd\n",
    "from sklearn.model_selection import train_test_split\n",
    "from sklearn.pipeline import Pipeline\n",
    "from sklearn.model_selection import GridSearchCV"
   ]
  },
  {
   "cell_type": "code",
   "execution_count": 33,
   "id": "7eafff15",
   "metadata": {},
   "outputs": [
    {
     "data": {
      "text/html": [
       "<div>\n",
       "<style scoped>\n",
       "    .dataframe tbody tr th:only-of-type {\n",
       "        vertical-align: middle;\n",
       "    }\n",
       "\n",
       "    .dataframe tbody tr th {\n",
       "        vertical-align: top;\n",
       "    }\n",
       "\n",
       "    .dataframe thead th {\n",
       "        text-align: right;\n",
       "    }\n",
       "</style>\n",
       "<table border=\"1\" class=\"dataframe\">\n",
       "  <thead>\n",
       "    <tr style=\"text-align: right;\">\n",
       "      <th></th>\n",
       "      <th>text</th>\n",
       "      <th>target</th>\n",
       "    </tr>\n",
       "  </thead>\n",
       "  <tbody>\n",
       "    <tr>\n",
       "      <th>5282</th>\n",
       "      <td>The spread of the novel among asylum seekers o...</td>\n",
       "      <td>1</td>\n",
       "    </tr>\n",
       "    <tr>\n",
       "      <th>5283</th>\n",
       "      <td>Hundreds of Jewish  patients are being treated...</td>\n",
       "      <td>1</td>\n",
       "    </tr>\n",
       "    <tr>\n",
       "      <th>5284</th>\n",
       "      <td>Beats me Honestly most of the people I follow ...</td>\n",
       "      <td>0</td>\n",
       "    </tr>\n",
       "    <tr>\n",
       "      <th>5285</th>\n",
       "      <td>Help us reach more people by donating and shar...</td>\n",
       "      <td>0</td>\n",
       "    </tr>\n",
       "    <tr>\n",
       "      <th>5286</th>\n",
       "      <td>Interest Rate Swap Derivative Pricing in Pytho...</td>\n",
       "      <td>0</td>\n",
       "    </tr>\n",
       "  </tbody>\n",
       "</table>\n",
       "</div>"
      ],
      "text/plain": [
       "                                                   text  target\n",
       "5282  The spread of the novel among asylum seekers o...       1\n",
       "5283  Hundreds of Jewish  patients are being treated...       1\n",
       "5284  Beats me Honestly most of the people I follow ...       0\n",
       "5285  Help us reach more people by donating and shar...       0\n",
       "5286  Interest Rate Swap Derivative Pricing in Pytho...       0"
      ]
     },
     "execution_count": 33,
     "metadata": {},
     "output_type": "execute_result"
    }
   ],
   "source": [
    "df = pd.read_csv(\"updated_train.csv\")\n",
    "df.drop(['ID'], inplace=True, axis=1)\n",
    "df.head()\n",
    "\n",
    "#df.tail()"
   ]
  },
  {
   "cell_type": "code",
   "execution_count": 19,
   "id": "49800f86",
   "metadata": {},
   "outputs": [
    {
     "data": {
      "text/plain": [
       "<AxesSubplot:xlabel='count', ylabel='target'>"
      ]
     },
     "execution_count": 19,
     "metadata": {},
     "output_type": "execute_result"
    },
    {
     "data": {
      "image/png": "[encoded data removed]",
      "text/plain": [
       "<Figure size 432x288 with 1 Axes>"
      ]
     },
     "metadata": {
      "needs_background": "light"
     },
     "output_type": "display_data"
    }
   ],
   "source": [
    "sns.countplot(data=df, y='target', palette='magma')"
   ]
  },
  {
   "cell_type": "code",
   "execution_count": 20,
   "id": "e020be87",
   "metadata": {},
   "outputs": [],
   "source": [
    "x = df['text']\n",
    "y = df['target']"
   ]
  },
  {
   "cell_type": "code",
   "execution_count": 21,
   "id": "be393bf1",
   "metadata": {},
   "outputs": [
    {
     "data": {
      "text/plain": [
       "((794,), (794,), (2246,), (2246,), (2247,), (2247,))"
      ]
     },
     "execution_count": 21,
     "metadata": {},
     "output_type": "execute_result"
    }
   ],
   "source": [
    "x_train, xtest, y_train, ytest = train_test_split(x, y, test_size=0.15, random_state=0)\n",
    "xtrain, xval, ytrain, yval = train_test_split(x_train, y_train, test_size=0.50, random_state=0)\n",
    "\n",
    "xtest.shape, ytest.shape, xtrain.shape, ytrain.shape, yval.shape, xval.shape"
   ]
  },
  {
   "cell_type": "code",
   "execution_count": 22,
   "id": "c4c8c010",
   "metadata": {},
   "outputs": [
    {
     "data": {
      "text/plain": [
       "<AxesSubplot:>"
      ]
     },
     "execution_count": 22,
     "metadata": {},
     "output_type": "execute_result"
    },
    {
     "data": {
      "image/png": "[encoded data removed]",
      "text/plain": [
       "<Figure size 432x288 with 1 Axes>"
      ]
     },
     "metadata": {
      "needs_background": "light"
     },
     "output_type": "display_data"
    }
   ],
   "source": [
    "ytrain.value_counts().plot.bar()"
   ]
  },
  {
   "cell_type": "code",
   "execution_count": 23,
   "id": "85456236",
   "metadata": {},
   "outputs": [
    {
     "data": {
      "text/plain": [
       "Pipeline(steps=[('tfid', TfidfVectorizer()), ('nb', MultinomialNB())])"
      ]
     },
     "execution_count": 23,
     "metadata": {},
     "output_type": "execute_result"
    }
   ],
   "source": [
    "pipe = Pipeline([('tfid', TfidfVectorizer()), ('nb', MultinomialNB())])\n",
    "pipe.fit(xtrain, ytrain)"
   ]
  },
  {
   "cell_type": "code",
   "execution_count": 24,
   "id": "d5db07c0",
   "metadata": {},
   "outputs": [],
   "source": [
    "ypred_initial = pipe.predict(xtrain)"
   ]
  },
  {
   "cell_type": "code",
   "execution_count": 25,
   "id": "cc5cc118",
   "metadata": {},
   "outputs": [
    {
     "name": "stdout",
     "output_type": "stream",
     "text": [
      "              precision    recall  f1-score   support\n",
      "\n",
      "           0       0.95      0.99      0.97      1186\n",
      "           1       0.99      0.94      0.96      1060\n",
      "\n",
      "    accuracy                           0.96      2246\n",
      "   macro avg       0.97      0.96      0.96      2246\n",
      "weighted avg       0.97      0.96      0.96      2246\n",
      "\n"
     ]
    }
   ],
   "source": [
    "print(classification_report(ytrain, ypred_initial))"
   ]
  },
  {
   "cell_type": "code",
   "execution_count": 26,
   "id": "639a0a46",
   "metadata": {},
   "outputs": [],
   "source": [
    "# HYPER PARAMETER TUNING"
   ]
  },
  {
   "cell_type": "code",
   "execution_count": 27,
   "id": "672b9ed8",
   "metadata": {},
   "outputs": [],
   "source": [
    "param_grid = {\n",
    "    'tfid__ngram_range':[(1,1), (1,2), (1,3)],\n",
    "    'nb__alpha':[0.1, 0.2, 1.0],\n",
    "    'nb__fit_prior':[True, False]\n",
    "}"
   ]
  },
  {
   "cell_type": "code",
   "execution_count": 28,
   "id": "80413a47",
   "metadata": {},
   "outputs": [],
   "source": [
    "grid = GridSearchCV(pipe, param_grid, scoring= 'precision', cv=10).fit(xval, yval)"
   ]
  },
  {
   "cell_type": "code",
   "execution_count": 29,
   "id": "89361e59",
   "metadata": {},
   "outputs": [
    {
     "data": {
      "text/plain": [
       "Pipeline(steps=[('tfid', TfidfVectorizer(ngram_range=(1, 3))),\n",
       "                ('nb', MultinomialNB())])"
      ]
     },
     "execution_count": 29,
     "metadata": {},
     "output_type": "execute_result"
    }
   ],
   "source": [
    "grid.best_estimator_"
   ]
  },
  {
   "cell_type": "code",
   "execution_count": 31,
   "id": "dc44f31a",
   "metadata": {},
   "outputs": [
    {
     "data": {
      "text/plain": [
       "(0.9184359132953881,\n",
       " {'nb__alpha': 1.0, 'nb__fit_prior': True, 'tfid__ngram_range': (1, 3)})"
      ]
     },
     "execution_count": 31,
     "metadata": {},
     "output_type": "execute_result"
    }
   ],
   "source": [
    "grid.best_score_, grid.best_params_"
   ]
  },
  {
   "cell_type": "code",
   "execution_count": 32,
   "id": "fb1a7e52",
   "metadata": {},
   "outputs": [
    {
     "data": {
      "text/plain": [
       "((4493,), (4493,))"
      ]
     },
     "execution_count": 32,
     "metadata": {},
     "output_type": "execute_result"
    }
   ],
   "source": [
    "x_train.shape, y_train.shape"
   ]
  },
  {
   "cell_type": "code",
   "execution_count": 35,
   "id": "c4db067a",
   "metadata": {},
   "outputs": [],
   "source": [
    "final_model = Pipeline([('tfid', TfidfVectorizer(ngram_range=(1,3))),\n",
    "                       ('nb', MultinomialNB(alpha=1.0, fit_prior = True))])"
   ]
  },
  {
   "cell_type": "code",
   "execution_count": 36,
   "id": "1c85a9b7",
   "metadata": {},
   "outputs": [
    {
     "data": {
      "text/plain": [
       "Pipeline(steps=[('tfid', TfidfVectorizer(ngram_range=(1, 3))),\n",
       "                ('nb', MultinomialNB())])"
      ]
     },
     "execution_count": 36,
     "metadata": {},
     "output_type": "execute_result"
    }
   ],
   "source": [
    "final_model.fit(x_train, y_train)"
   ]
  },
  {
   "cell_type": "code",
   "execution_count": 37,
   "id": "cfe2e3e8",
   "metadata": {},
   "outputs": [],
   "source": [
    "test_pred = final_model.predict(xtest)"
   ]
  },
  {
   "cell_type": "code",
   "execution_count": 39,
   "id": "c7f5d40c",
   "metadata": {},
   "outputs": [
    {
     "name": "stdout",
     "output_type": "stream",
     "text": [
      "              precision    recall  f1-score   support\n",
      "\n",
      "           0       0.95      0.99      0.97      1186\n",
      "           1       0.99      0.94      0.96      1060\n",
      "\n",
      "    accuracy                           0.96      2246\n",
      "   macro avg       0.97      0.96      0.96      2246\n",
      "weighted avg       0.97      0.96      0.96      2246\n",
      "\n"
     ]
    }
   ],
   "source": [
    "print(classification_report(ytrain, ypred_initial))"
   ]
  },
  {
   "cell_type": "code",
   "execution_count": 41,
   "id": "842399b1",
   "metadata": {},
   "outputs": [
    {
     "name": "stdout",
     "output_type": "stream",
     "text": [
      "Training Precision: 0.9880597014925373\n",
      "Validation Precision: 0.9184359132953881\n",
      "Testing Precision: 0.932475884244373\n"
     ]
    }
   ],
   "source": [
    "print('Training Precision:', precision_score(ytrain, ypred_initial))\n",
    "print('Validation Precision:', grid.best_score_)\n",
    "print('Testing Precision:', precision_score(ytest, test_pred))"
   ]
  },
  {
   "cell_type": "code",
   "execution_count": 46,
   "id": "604deef9",
   "metadata": {},
   "outputs": [
    {
     "data": {
      "text/html": [
       "<div>\n",
       "<style scoped>\n",
       "    .dataframe tbody tr th:only-of-type {\n",
       "        vertical-align: middle;\n",
       "    }\n",
       "\n",
       "    .dataframe tbody tr th {\n",
       "        vertical-align: top;\n",
       "    }\n",
       "\n",
       "    .dataframe thead th {\n",
       "        text-align: right;\n",
       "    }\n",
       "</style>\n",
       "<table border=\"1\" class=\"dataframe\">\n",
       "  <thead>\n",
       "    <tr style=\"text-align: right;\">\n",
       "      <th></th>\n",
       "      <th>text</th>\n",
       "      <th>target</th>\n",
       "      <th>Predicted</th>\n",
       "    </tr>\n",
       "  </thead>\n",
       "  <tbody>\n",
       "    <tr>\n",
       "      <th>29</th>\n",
       "      <td>Thx a lot for the feedback I ll stress test it...</td>\n",
       "      <td>0</td>\n",
       "      <td>0</td>\n",
       "    </tr>\n",
       "    <tr>\n",
       "      <th>521</th>\n",
       "      <td>rinaldi According to the new Italian governmen...</td>\n",
       "      <td>0</td>\n",
       "      <td>0</td>\n",
       "    </tr>\n",
       "    <tr>\n",
       "      <th>608</th>\n",
       "      <td>Artist Juan Gim nez has died due to complicati...</td>\n",
       "      <td>1</td>\n",
       "      <td>1</td>\n",
       "    </tr>\n",
       "    <tr>\n",
       "      <th>4094</th>\n",
       "      <td>Am I in another universe The Prime Minister ma...</td>\n",
       "      <td>1</td>\n",
       "      <td>0</td>\n",
       "    </tr>\n",
       "    <tr>\n",
       "      <th>4683</th>\n",
       "      <td>GBPUSD gained traction for the fourth consecut...</td>\n",
       "      <td>1</td>\n",
       "      <td>1</td>\n",
       "    </tr>\n",
       "    <tr>\n",
       "      <th>...</th>\n",
       "      <td>...</td>\n",
       "      <td>...</td>\n",
       "      <td>...</td>\n",
       "    </tr>\n",
       "    <tr>\n",
       "      <th>1087</th>\n",
       "      <td>Protecting Those on the Frontline Aiding the m...</td>\n",
       "      <td>1</td>\n",
       "      <td>1</td>\n",
       "    </tr>\n",
       "    <tr>\n",
       "      <th>2949</th>\n",
       "      <td>SA Will it be safe for learners to knock off a...</td>\n",
       "      <td>1</td>\n",
       "      <td>0</td>\n",
       "    </tr>\n",
       "    <tr>\n",
       "      <th>3714</th>\n",
       "      <td>lockdown period is a enough rehabilitation per...</td>\n",
       "      <td>1</td>\n",
       "      <td>1</td>\n",
       "    </tr>\n",
       "    <tr>\n",
       "      <th>543</th>\n",
       "      <td>Jurnal Ramadan by A THREAD</td>\n",
       "      <td>0</td>\n",
       "      <td>0</td>\n",
       "    </tr>\n",
       "    <tr>\n",
       "      <th>3804</th>\n",
       "      <td>GOP Gov Hogan to Trump Stop misinformation say...</td>\n",
       "      <td>1</td>\n",
       "      <td>1</td>\n",
       "    </tr>\n",
       "  </tbody>\n",
       "</table>\n",
       "<p>794 rows × 3 columns</p>\n",
       "</div>"
      ],
      "text/plain": [
       "                                                   text  target  Predicted\n",
       "29    Thx a lot for the feedback I ll stress test it...       0          0\n",
       "521   rinaldi According to the new Italian governmen...       0          0\n",
       "608   Artist Juan Gim nez has died due to complicati...       1          1\n",
       "4094  Am I in another universe The Prime Minister ma...       1          0\n",
       "4683  GBPUSD gained traction for the fourth consecut...       1          1\n",
       "...                                                 ...     ...        ...\n",
       "1087  Protecting Those on the Frontline Aiding the m...       1          1\n",
       "2949  SA Will it be safe for learners to knock off a...       1          0\n",
       "3714  lockdown period is a enough rehabilitation per...       1          1\n",
       "543                          Jurnal Ramadan by A THREAD       0          0\n",
       "3804  GOP Gov Hogan to Trump Stop misinformation say...       1          1\n",
       "\n",
       "[794 rows x 3 columns]"
      ]
     },
     "execution_count": 46,
     "metadata": {},
     "output_type": "execute_result"
    }
   ],
   "source": [
    "test = pd.concat([xtest, ytest], axis=1)\n",
    "test['Predicted'] = test_pred\n",
    "test"
   ]
  },
  {
   "cell_type": "code",
   "execution_count": null,
   "id": "d0c19967",
   "metadata": {},
   "outputs": [],
   "source": []
  }
 ],
 "metadata": {
  "kernelspec": {
   "display_name": "Python 3 (ipykernel)",
   "language": "python",
   "name": "python3"
  },
  "language_info": {
   "codemirror_mode": {
    "name": "ipython",
    "version": 3
   },
   "file_extension": ".py",
   "mimetype": "text/x-python",
   "name": "python",
   "nbconvert_exporter": "python",
   "pygments_lexer": "ipython3",
   "version": "3.9.12"
  }
 },
 "nbformat": 4,
 "nbformat_minor": 5
}
