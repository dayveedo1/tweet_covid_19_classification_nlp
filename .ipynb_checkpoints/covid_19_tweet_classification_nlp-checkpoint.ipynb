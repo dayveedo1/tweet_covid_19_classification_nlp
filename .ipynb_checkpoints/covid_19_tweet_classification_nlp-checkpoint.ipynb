{
 "cells": [
  {
   "cell_type": "code",
   "execution_count": 17,
   "id": "caf09edb",
   "metadata": {},
   "outputs": [],
   "source": [
    "from sklearn.feature_extraction.text import TfidfVectorizer\n",
    "from sklearn.naive_bayes import MultinomialNB\n",
    "from sklearn.metrics import classification_report, precision_score\n",
    "import seaborn as sns\n",
    "import pandas as pd\n",
    "from sklearn.model_selection import train_test_split\n",
    "from sklearn.pipeline import Pipeline\n",
    "from sklearn.model_selection import GridSearchCV"
   ]
  },
  {
   "cell_type": "code",
   "execution_count": 33,
   "id": "4ec44cce",
   "metadata": {},
   "outputs": [
    {
     "data": {
      "text/html": [
       "<div>\n",
       "<style scoped>\n",
       "    .dataframe tbody tr th:only-of-type {\n",
       "        vertical-align: middle;\n",
       "    }\n",
       "\n",
       "    .dataframe tbody tr th {\n",
       "        vertical-align: top;\n",
       "    }\n",
       "\n",
       "    .dataframe thead th {\n",
       "        text-align: right;\n",
       "    }\n",
       "</style>\n",
       "<table border=\"1\" class=\"dataframe\">\n",
       "  <thead>\n",
       "    <tr style=\"text-align: right;\">\n",
       "      <th></th>\n",
       "      <th>text</th>\n",
       "      <th>target</th>\n",
       "    </tr>\n",
       "  </thead>\n",
       "  <tbody>\n",
       "    <tr>\n",
       "      <th>5282</th>\n",
       "      <td>The spread of the novel among asylum seekers o...</td>\n",
       "      <td>1</td>\n",
       "    </tr>\n",
       "    <tr>\n",
       "      <th>5283</th>\n",
       "      <td>Hundreds of Jewish  patients are being treated...</td>\n",
       "      <td>1</td>\n",
       "    </tr>\n",
       "    <tr>\n",
       "      <th>5284</th>\n",
       "      <td>Beats me Honestly most of the people I follow ...</td>\n",
       "      <td>0</td>\n",
       "    </tr>\n",
       "    <tr>\n",
       "      <th>5285</th>\n",
       "      <td>Help us reach more people by donating and shar...</td>\n",
       "      <td>0</td>\n",
       "    </tr>\n",
       "    <tr>\n",
       "      <th>5286</th>\n",
       "      <td>Interest Rate Swap Derivative Pricing in Pytho...</td>\n",
       "      <td>0</td>\n",
       "    </tr>\n",
       "  </tbody>\n",
       "</table>\n",
       "</div>"
      ],
      "text/plain": [
       "                                                   text  target\n",
       "5282  The spread of the novel among asylum seekers o...       1\n",
       "5283  Hundreds of Jewish  patients are being treated...       1\n",
       "5284  Beats me Honestly most of the people I follow ...       0\n",
       "5285  Help us reach more people by donating and shar...       0\n",
       "5286  Interest Rate Swap Derivative Pricing in Pytho...       0"
      ]
     },
     "execution_count": 33,
     "metadata": {},
     "output_type": "execute_result"
    }
   ],
   "source": [
    "df = pd.read_csv(\"updated_train.csv\")\n",
    "df.drop(['ID'], inplace=True, axis=1)\n",
    "df.head()\n",
    "\n",
    "#df.tail()"
   ]
  },
  {
   "cell_type": "code",
   "execution_count": 19,
   "id": "07e8f59e",
   "metadata": {},
   "outputs": [
    {
     "data": {
      "text/plain": [
       "<AxesSubplot:xlabel='count', ylabel='target'>"
      ]
     },
     "execution_count": 19,
     "metadata": {},
     "output_type": "execute_result"
    },
    {
     "data": {
      "image/png": "[encoded data removed]",
      "text/plain": [
       "<Figure size 432x288 with 1 Axes>"
      ]
     },
     "metadata": {
      "needs_background": "light"
     },
     "output_type": "display_data"
    }
   ],
   "source": [
    "sns.countplot(data=df, y='target', palette='magma')"
   ]
  },
  {
   "cell_type": "code",
   "execution_count": 20,
   "id": "6f5d5306",
   "metadata": {},
   "outputs": [],
   "source": [
    "x = df['text']\n",
    "y = df['target']"
   ]
  },
  {
   "cell_type": "code",
   "execution_count": 21,
   "id": "9b77a731",
   "metadata": {},
   "outputs": [
    {
     "data": {
      "text/plain": [
       "((794,), (794,), (2246,), (2246,), (2247,), (2247,))"
      ]
     },
     "execution_count": 21,
     "metadata": {},
     "output_type": "execute_result"
    }
   ],
   "source": [
    "x_train, xtest, y_train, ytest = train_test_split(x, y, test_size=0.15, random_state=0)\n",
    "xtrain, xval, ytrain, yval = train_test_split(x_train, y_train, test_size=0.50, random_state=0)\n",
    "\n",
    "xtest.shape, ytest.shape, xtrain.shape, ytrain.shape, yval.shape, xval.shape"
   ]
  },
  {
   "cell_type": "code",
   "execution_count": 22,
   "id": "5bd5e8ec",
   "metadata": {},
   "outputs": [
    {
     "data": {
      "text/plain": [
       "<AxesSubplot:>"
      ]
     },
     "execution_count": 22,
     "metadata": {},
     "output_type": "execute_result"
    },
    {
     "data": {
      "image/png": "[encoded data removed]",
      "text/plain": [
       "<Figure size 432x288 with 1 Axes>"
      ]
     },
     "metadata": {
      "needs_background": "light"
     },
     "output_type": "display_data"
    }
   ],
   "source": [
    "ytrain.value_counts().plot.bar()"
   ]
  },
  {
   "cell_type": "code",
   "execution_count": 23,
   "id": "7a39bc20",
   "metadata": {},
   "outputs": [
    {
     "data": {
      "text/plain": [
       "Pipeline(steps=[('tfid', TfidfVectorizer()), ('nb', MultinomialNB())])"
      ]
     },
     "execution_count": 23,
     "metadata": {},
     "output_type": "execute_result"
    }
   ],
   "source": [
    "pipe = Pipeline([('tfid', TfidfVectorizer()), ('nb', MultinomialNB())])\n",
    "pipe.fit(xtrain, ytrain)"
   ]
  },
  {
   "cell_type": "code",
   "execution_count": 24,
   "id": "8e9d4763",
   "metadata": {},
   "outputs": [],
   "source": [
    "ypred_initial = pipe.predict(xtrain)"
   ]
  },
  {
   "cell_type": "code",
   "execution_count": 25,
   "id": "b3a26b6f",
   "metadata": {},
   "outputs": [
    {
     "name": "stdout",
     "output_type": "stream",
     "text": [
      "              precision    recall  f1-score   support\n",
      "\n",
      "           0       0.95      0.99      0.97      1186\n",
      "           1       0.99      0.94      0.96      1060\n",
      "\n",
      "    accuracy                           0.96      2246\n",
      "   macro avg       0.97      0.96      0.96      2246\n",
      "weighted avg       0.97      0.96      0.96      2246\n",
      "\n"
     ]
    }
   ],
   "source": [
    "print(classification_report(ytrain, ypred_initial))"
   ]
  },
  {
   "cell_type": "code",
   "execution_count": 26,
   "id": "a52200c4",
   "metadata": {},
   "outputs": [],
   "source": [
    "# HYPER PARAMETER TUNING"
   ]
  },
  {
   "cell_type": "code",
   "execution_count": 27,
   "id": "4d37c5d4",
   "metadata": {},
   "outputs": [],
   "source": [
    "param_grid = {\n",
    "    'tfid__ngram_range':[(1,1), (1,2), (1,3)],\n",
    "    'nb__alpha':[0.1, 0.2, 1.0],\n",
    "    'nb__fit_prior':[True, False]\n",
    "}"
   ]
  },
  {
   "cell_type": "code",
   "execution_count": 28,
   "id": "e88176c2",
   "metadata": {},
   "outputs": [],
   "source": [
    "grid = GridSearchCV(pipe, param_grid, scoring= 'precision', cv=10).fit(xval, yval)"
   ]
  },
  {
   "cell_type": "code",
   "execution_count": 29,
   "id": "415f4e45",
   "metadata": {},
   "outputs": [
    {
     "data": {
      "text/plain": [
       "Pipeline(steps=[('tfid', TfidfVectorizer(ngram_range=(1, 3))),\n",
       "                ('nb', MultinomialNB())])"
      ]
     },
     "execution_count": 29,
     "metadata": {},
     "output_type": "execute_result"
    }
   ],
   "source": [
    "grid.best_estimator_"
   ]
  },
  {
   "cell_type": "code",
   "execution_count": 31,
   "id": "aff2c22f",
   "metadata": {},
   "outputs": [
    {
     "data": {
      "text/plain": [
       "(0.9184359132953881,\n",
       " {'nb__alpha': 1.0, 'nb__fit_prior': True, 'tfid__ngram_range': (1, 3)})"
      ]
     },
     "execution_count": 31,
     "metadata": {},
     "output_type": "execute_result"
    }
   ],
   "source": [
    "grid.best_score_, grid.best_params_"
   ]
  },
  {
   "cell_type": "code",
   "execution_count": 32,
   "id": "1e46d72f",
   "metadata": {},
   "outputs": [
    {
     "data": {
      "text/plain": [
       "((4493,), (4493,))"
      ]
     },
     "execution_count": 32,
     "metadata": {},
     "output_type": "execute_result"
    }
   ],
   "source": [
    "x_train.shape, y_train.shape"
   ]
  },
  {
   "cell_type": "code",
   "execution_count": 35,
   "id": "a887e01d",
   "metadata": {},
   "outputs": [],
   "source": [
    "final_model = Pipeline([('tfid', TfidfVectorizer(ngram_range=(1,3))),\n",
    "                       ('nb', MultinomialNB(alpha=1.0, fit_prior = True))])"
   ]
  },
  {
   "cell_type": "code",
   "execution_count": 36,
   "id": "356761d7",
   "metadata": {},
   "outputs": [
    {
     "data": {
      "text/plain": [
       "Pipeline(steps=[('tfid', TfidfVectorizer(ngram_range=(1, 3))),\n",
       "                ('nb', MultinomialNB())])"
      ]
     },
     "execution_count": 36,
     "metadata": {},
     "output_type": "execute_result"
    }
   ],
   "source": [
    "final_model.fit(x_train, y_train)"
   ]
  },
  {
   "cell_type": "code",
   "execution_count": null,
   "id": "046d455f",
   "metadata": {},
   "outputs": [],
   "source": []
  }
 ],
 "metadata": {
  "kernelspec": {
   "display_name": "Python 3 (ipykernel)",
   "language": "python",
   "name": "python3"
  },
  "language_info": {
   "codemirror_mode": {
    "name": "ipython",
    "version": 3
   },
   "file_extension": ".py",
   "mimetype": "text/x-python",
   "name": "python",
   "nbconvert_exporter": "python",
   "pygments_lexer": "ipython3",
   "version": "3.9.12"
  }
 },
 "nbformat": 4,
 "nbformat_minor": 5
}
